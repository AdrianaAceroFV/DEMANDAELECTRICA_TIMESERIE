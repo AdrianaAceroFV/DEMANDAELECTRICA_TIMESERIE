{
 "cells": [
  {
   "cell_type": "code",
   "execution_count": 1,
   "metadata": {},
   "outputs": [],
   "source": [
    "import pandas as pd"
   ]
  },
  {
   "cell_type": "code",
   "execution_count": 2,
   "metadata": {},
   "outputs": [],
   "source": [
    "# Carga el archivo CSV consolidado\n",
    "df = pd.read_csv('demanda_electrica_2011_2024.csv', index_col='Fecha', parse_dates=True)"
   ]
  },
  {
   "cell_type": "code",
   "execution_count": 4,
   "metadata": {},
   "outputs": [],
   "source": [
    "# Extrae el año y el mes en columnas separadas\n",
    "df['Año'] = df.index.year\n",
    "df['Mes'] = df.index.month"
   ]
  },
  {
   "cell_type": "code",
   "execution_count": 5,
   "metadata": {},
   "outputs": [],
   "source": [
    "# Agrupa por año y mes, y encuentra el valor máximo de demanda para cada grupo\n",
    "df_maximo_por_mes = df.groupby(['Año', 'Mes'])['Demanda'].max().reset_index()"
   ]
  },
  {
   "cell_type": "code",
   "execution_count": null,
   "metadata": {},
   "outputs": [],
   "source": [
    "df_maximo_por_mes['Año'] = df_maximo_por_mes['Año'].astype(int)\n",
    "df_maximo_por_mes['Mes'] = df_maximo_por_mes['Mes'].astype(int)\n",
    "\n",
    "# Formatea 'Año' y 'Mes' como cadena y usa pd.to_datetime para convertirlo a datetime\n",
    "df_maximo_por_mes['Fecha'] = pd.to_datetime(df_maximo_por_mes['Año'].astype(str) + '-' + \n",
    "                                            df_maximo_por_mes['Mes'].astype(str) + '-01')\n"
   ]
  },
  {
   "cell_type": "code",
   "execution_count": 9,
   "metadata": {},
   "outputs": [],
   "source": [
    "# Ahora que tienes la columna 'Fecha', puedes decidir si quieres eliminar las columnas 'Año' y 'Mes'\n",
    "df_maximo_por_mes.drop(['Año', 'Mes'], axis=1, inplace=True)"
   ]
  },
  {
   "cell_type": "code",
   "execution_count": 10,
   "metadata": {},
   "outputs": [],
   "source": [
    "# Guarda el DataFrame en un archivo CSV\n",
    "df_maximo_por_mes.to_csv('demanda_electrica_maxima_mes_2011_2023.csv', index=False)"
   ]
  }
 ],
 "metadata": {
  "kernelspec": {
   "display_name": "timeseries-udemy",
   "language": "python",
   "name": "python3"
  },
  "language_info": {
   "codemirror_mode": {
    "name": "ipython",
    "version": 3
   },
   "file_extension": ".py",
   "mimetype": "text/x-python",
   "name": "python",
   "nbconvert_exporter": "python",
   "pygments_lexer": "ipython3",
   "version": "3.11.8"
  }
 },
 "nbformat": 4,
 "nbformat_minor": 2
}
